{
  "nbformat": 4,
  "nbformat_minor": 0,
  "metadata": {
    "colab": {
      "provenance": [],
      "authorship_tag": "ABX9TyNHVQmBQlMBwp+YW+/ojqb2",
      "include_colab_link": true
    },
    "kernelspec": {
      "name": "python3",
      "display_name": "Python 3"
    },
    "language_info": {
      "name": "python"
    }
  },
  "cells": [
    {
      "cell_type": "markdown",
      "metadata": {
        "id": "view-in-github",
        "colab_type": "text"
      },
      "source": [
        "<a href=\"https://colab.research.google.com/github/Noffal1404/DDP/blob/main/tugas6.ipynb\" target=\"_parent\"><img src=\"https://colab.research.google.com/assets/colab-badge.svg\" alt=\"Open In Colab\"/></a>"
      ]
    },
    {
      "cell_type": "code",
      "execution_count": null,
      "metadata": {
        "id": "3xNVyyiA7p8x"
      },
      "outputs": [],
      "source": [
        "numbers = [\n",
        "    951, 402, 984, 651, 360, 69, 408, 319, 601, 485, 980, 507, 725,\n",
        "    547, 544, 615, 83, 165, 141, 501, 263, 617, 865, 575, 219, 390,\n",
        "    984, 592, 236, 105, 942, 941, 386, 462, 47, 418, 907, 344, 236,\n",
        "    375, 823, 566, 597, 978, 328, 615, 953, 345, 399, 162, 758, 219,\n",
        "    918, 237, 412, 566, 826, 248, 866, 950, 626, 949, 687, 217, 815,\n",
        "    67, 104, 58, 512, 24, 892, 894, 767, 553, 81, 379, 843, 831, 445,\n",
        "    742, 717, 958, 609, 842, 451, 688, 753, 854, 685, 93, 857, 440,\n",
        "    380, 126, 721, 328, 753, 470, 743, 527\n",
        "]\n",
        "\n",
        "i = 0\n",
        "while i < len(numbers):\n",
        "    if numbers[i] == 553:\n",
        "        break\n",
        "    if numbers[i] % 2 != 0:\n",
        "        print(numbers[i])\n",
        "    i += 1"
      ]
    },
    {
      "cell_type": "code",
      "source": [
        "\n",
        "angka = [1, 3, 5, 7, 9, 11, 13, 15, 17, 19]\n",
        "\n",
        "total = 0\n",
        "for a in angka:\n",
        "    total += a\n",
        "\n",
        "print(\"1 + 3 + 5 + 7 + 9 + 11 + 13 + 15 + 17 + 19 =\", total)"
      ],
      "metadata": {
        "id": "c_IAHAcJ-p4b"
      },
      "execution_count": null,
      "outputs": []
    },
    {
      "cell_type": "code",
      "source": [
        "\n",
        "baris = int(input(\"Masukkan jumlah baris: \"))\n",
        "\n",
        "for i in range(1, baris + 1):\n",
        "    print(\"*\" * i)"
      ],
      "metadata": {
        "id": "PjZ4emkK-va2"
      },
      "execution_count": null,
      "outputs": []
    }
  ]
}