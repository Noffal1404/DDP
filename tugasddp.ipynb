{
  "nbformat": 4,
  "nbformat_minor": 0,
  "metadata": {
    "colab": {
      "provenance": [],
      "authorship_tag": "ABX9TyMcRSHnSgFWv3QjdLeJJ2Yf",
      "include_colab_link": true
    },
    "kernelspec": {
      "name": "python3",
      "display_name": "Python 3"
    },
    "language_info": {
      "name": "python"
    }
  },
  "cells": [
    {
      "cell_type": "markdown",
      "metadata": {
        "id": "view-in-github",
        "colab_type": "text"
      },
      "source": [
        "<a href=\"https://colab.research.google.com/github/Noffal1404/DDP/blob/main/tugasddp.ipynb\" target=\"_parent\"><img src=\"https://colab.research.google.com/assets/colab-badge.svg\" alt=\"Open In Colab\"/></a>"
      ]
    },
    {
      "cell_type": "code",
      "execution_count": 14,
      "metadata": {
        "colab": {
          "base_uri": "https://localhost:8080/"
        },
        "id": "Sfdmc9vBuYiS",
        "outputId": "6d4e7fcd-3c04-46ff-9358-6af5a506b0b0"
      },
      "outputs": [
        {
          "output_type": "stream",
          "name": "stdout",
          "text": [
            "['motor', 'matic', 'Honda', '125cc', 'putih', 'dua', ['ceban', 'daily']]\n"
          ]
        }
      ],
      "source": [
        "kendaraan = [\"motor\",\"matic\",\"125cc\",\"putih\",\"dua\"]\n",
        "kendaraan.append ([\"ceban\",\"daily\"])\n",
        "kendaraan.insert(2,\"Honda\")\n",
        "\n",
        "print(kendaraan)"
      ]
    },
    {
      "cell_type": "code",
      "source": [
        "hitung = input(\"\"\"pilih bangun datar yang ingin dihitung luasnya\n",
        "1. luas persegi\n",
        "2. luas lingkaran\n",
        "3. luas segitiga\n",
        "\"\"\")\n",
        "match hitung :\n",
        "  case \"1\":\n",
        "    sisi = int(input(\"Masukkan sisi\"))\n",
        "    total = sisi*sisi\n",
        "    print (\"luas persegi adalah\", total)\n",
        "  case \"2\":\n",
        "    jari_jari = int(input(\"Masukkan jari-jari\"))\n",
        "    total = 3.14 * jari_jari * jari_jari\n",
        "    print (\"luas lingkaran adalah \", total)\n",
        "  case \"3\":\n",
        "    alas = int(input(\"Masukkan alas \"))\n",
        "    tinggi = int(input(\"Masukkan tinggi \"))\n",
        "    total = 1/2 * alas * tinggi\n",
        "    print (\"luas segitiga adalah \", total)"
      ],
      "metadata": {
        "id": "wq3RmU1LzotC"
      },
      "execution_count": null,
      "outputs": []
    }
  ]
}